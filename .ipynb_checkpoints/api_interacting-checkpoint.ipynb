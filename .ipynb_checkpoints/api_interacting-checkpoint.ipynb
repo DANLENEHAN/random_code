{
 "cells": [
  {
   "cell_type": "code",
   "execution_count": 5,
   "id": "261bff64",
   "metadata": {},
   "outputs": [],
   "source": [
    "import requests"
   ]
  },
  {
   "cell_type": "code",
   "execution_count": 6,
   "id": "c4fd80e8",
   "metadata": {},
   "outputs": [],
   "source": [
    "s = requests.session()"
   ]
  },
  {
   "cell_type": "code",
   "execution_count": 12,
   "id": "5d5e2776",
   "metadata": {},
   "outputs": [
    {
     "data": {
      "text/plain": [
       "'{\"success\":\"User valid\"}\\n'"
      ]
     },
     "execution_count": 12,
     "metadata": {},
     "output_type": "execute_result"
    }
   ],
   "source": [
    "response = s.post(\n",
    "    \"http://127.0.0.1:5000/login\",\n",
    "    json={\n",
    "        \"username\": \"DanLenehan\",\n",
    "        \"email\": \"daniellenehan97@gmail.com\",\n",
    "        \"password\": \"testing123\"\n",
    "    }\n",
    ")\n",
    "response.text"
   ]
  },
  {
   "cell_type": "code",
   "execution_count": 13,
   "id": "e62a630d",
   "metadata": {},
   "outputs": [
    {
     "data": {
      "text/plain": [
       "'{\"success\":\"user logged out\"}\\n'"
      ]
     },
     "execution_count": 13,
     "metadata": {},
     "output_type": "execute_result"
    }
   ],
   "source": [
    "response = s.post(\n",
    "    \"http://127.0.0.1:5000/logout\",\n",
    "    json={\n",
    "        \"username\": \"DanLenehan\",\n",
    "        \"email\": \"daniel.lenehan.work@gmail.com\",\n",
    "        \"password\": \"testing123\"\n",
    "    }\n",
    ")\n",
    "response.text"
   ]
  },
  {
   "cell_type": "code",
   "execution_count": 14,
   "id": "aa270181",
   "metadata": {},
   "outputs": [
    {
     "data": {
      "text/plain": [
       "'{\"error\":\"User already exists\"}\\n'"
      ]
     },
     "execution_count": 14,
     "metadata": {},
     "output_type": "execute_result"
    }
   ],
   "source": [
    "response = s.post(\n",
    "    \"http://127.0.0.1:5000/create_account\",\n",
    "    json={\n",
    "        \"username\": \"DanLenehan\",\n",
    "        \"email\": \"daniel.lenehan.work@gmail.com\",\n",
    "        \"password\": \"testing123\"\n",
    "    }\n",
    ")\n",
    "response.text"
   ]
  },
  {
   "cell_type": "code",
   "execution_count": null,
   "id": "5554d904",
   "metadata": {},
   "outputs": [],
   "source": []
  }
 ],
 "metadata": {
  "kernelspec": {
   "display_name": "Python 3 (ipykernel)",
   "language": "python",
   "name": "python3"
  },
  "language_info": {
   "codemirror_mode": {
    "name": "ipython",
    "version": 3
   },
   "file_extension": ".py",
   "mimetype": "text/x-python",
   "name": "python",
   "nbconvert_exporter": "python",
   "pygments_lexer": "ipython3",
   "version": "3.10.0"
  }
 },
 "nbformat": 4,
 "nbformat_minor": 5
}
